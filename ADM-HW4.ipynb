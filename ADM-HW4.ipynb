{
 "cells": [
  {
   "cell_type": "code",
   "execution_count": 1,
   "id": "0504e5d7",
   "metadata": {},
   "outputs": [],
   "source": [
    "import pandas as pd\n",
    "import time\n",
    "from datetime import date\n",
    "from datetime import datetime\n",
    "from time import mktime\n",
    "import math"
   ]
  },
  {
   "cell_type": "markdown",
   "id": "8c78ca5e",
   "metadata": {},
   "source": [
    "# 1. Finding Similar Costumers"
   ]
  },
  {
   "cell_type": "code",
   "execution_count": 2,
   "id": "9e8b4ddc",
   "metadata": {},
   "outputs": [],
   "source": [
    "import numpy as np\n",
    "import sklearn\n",
    "from sklearn import preprocessing\n",
    "from tqdm import tqdm\n",
    "import scipy\n",
    "import itertools\n",
    "import collections\n",
    "import time"
   ]
  },
  {
   "cell_type": "code",
   "execution_count": 3,
   "id": "11a71831",
   "metadata": {},
   "outputs": [],
   "source": [
    "df = pd.read_pickle(\"df.pkl\")"
   ]
  },
  {
   "cell_type": "code",
   "execution_count": 4,
   "id": "92b319c1",
   "metadata": {},
   "outputs": [],
   "source": [
    "def get_customers(df):\n",
    "    customers = df.drop_duplicates(subset='CustomerID')\n",
    "    customers = customers.drop(['TransactionID', 'CustomerID'], axis=1)\n",
    "    return customers\n",
    "\n",
    "# one hot encoding\n",
    "def encoder(df):\n",
    "    # CustomerDOB\n",
    "    df.CustomerDOB = pd.qcut(df.CustomerDOB.apply(lambda x: x.year), 3, labels = ['age_range_1' , 'age_range_2', 'age_range_3'])\n",
    "    # CustLocation\n",
    "    counts = df.CustLocation.value_counts()\n",
    "    min_frequency = 10\n",
    "    repl = counts[counts <= min_frequency].index\n",
    "    df.CustLocation = df.CustLocation.replace(repl, 'others')\n",
    "    # CustAccountBalance\n",
    "    df.CustAccountBalance = pd.qcut(df.CustAccountBalance, 3, labels = ['poor' , 'wealthy', 'rich'])\n",
    "    # TransactionTime\n",
    "    df.TransactionTime = pd.cut(df.TransactionTime.apply(lambda x: int(x.hour)), bins=[0, 13, 20, 24], labels = ['morning', 'afternoon', 'evening'])\n",
    "    # TransactionAmount (INR)\n",
    "    df['TransactionAmount (INR)'] = pd.qcut(df['TransactionAmount (INR)'], 3, labels = ['low', 'medium', 'high'])\n",
    "    # one hot encoding\n",
    "    df = pd.get_dummies(df)\n",
    "    return df\n",
    "\n",
    "from numpy.core.numeric import outer\n",
    "def compute_signature(l, hash_functions, D):\n",
    "    signature = []\n",
    "    for perm in hash_functions:\n",
    "        a,b = perm\n",
    "        min_hash = float('inf')\n",
    "        for el in l:\n",
    "            hash = (a*el + b) % D\n",
    "            if hash < min_hash:\n",
    "                min_hash = hash\n",
    "        signature.append(min_hash)\n",
    "    return signature\n",
    "\n",
    "\n",
    "def MinHash(df, seed):\n",
    "    N = 100   #number of hash functions\n",
    "    D = df.shape[1]   #number of indeces\n",
    "    minimum = 0    # inclusive\n",
    "    maximum = D    # exclusive\n",
    "    signature_matrix = np.zeros([len(df), N], dtype = np.int32)\n",
    "    p = 2943\n",
    "    np.random.seed(seed)\n",
    "    hash_functions = [(np.random.randint(minimum, maximum),np.random.randint(minimum, maximum)) for _ in range(N)]\n",
    "    df = scipy.sparse.lil_matrix(df)\n",
    "    for i in tqdm(range(df.shape[0])):\n",
    "        signature_matrix[i] = compute_signature(df.rows[i], hash_functions, D)\n",
    "    return signature_matrix\n",
    "\n",
    "def create_buckets(sig_mat, b, r):\n",
    "    d, n = sig_mat.shape\n",
    "    assert(n==b*r)\n",
    "    buckets = collections.defaultdict(set)\n",
    "    bands = np.array_split(sig_mat, b, axis=1)\n",
    "    for i,band in tqdm(enumerate(bands)):\n",
    "        for j in range(d):\n",
    "            band_id = tuple(list(band[j,:])+[str(i)])\n",
    "            buckets[band_id].add(j)\n",
    "    return buckets\n",
    "\n",
    "# function that estimate the jaccard similarity\n",
    "def J_estimate(signature_matrix, user_index1, user_index2):\n",
    "    return (signature_matrix[user_index1, :] == signature_matrix[user_index2, :]).mean()\n",
    "\n",
    "# function that find similar customers to a given customer\n",
    "def find_similars(user_index, buckets):\n",
    "    similar_users = []\n",
    "    for value in buckets.values():\n",
    "        if user_index in value:\n",
    "              similar_users = similar_users + list(value)\n",
    "    similar_users = np.unique(np.array(similar_users))\n",
    "    return similar_users\n",
    "\n",
    "def compute_threshold(b, r):\n",
    "    return (1/b)**(1/r)"
   ]
  },
  {
   "cell_type": "markdown",
   "id": "af4d9ee2",
   "metadata": {},
   "source": [
    "We choose values of b and r such that the threshold we obtain is very high, specifically around 80%. We see that for b=10 and r=10 the value is about 0.79"
   ]
  },
  {
   "cell_type": "code",
   "execution_count": 5,
   "id": "19228326",
   "metadata": {},
   "outputs": [
    {
     "data": {
      "text/plain": [
       "0.7943282347242815"
      ]
     },
     "execution_count": 5,
     "metadata": {},
     "output_type": "execute_result"
    }
   ],
   "source": [
    "compute_threshold(b = 10, r = 10)"
   ]
  },
  {
   "cell_type": "code",
   "execution_count": 6,
   "id": "7c2aeb34",
   "metadata": {},
   "outputs": [],
   "source": [
    "query = pd.read_pickle('query_processed.pkl')"
   ]
  },
  {
   "cell_type": "code",
   "execution_count": 7,
   "id": "1c77d310",
   "metadata": {},
   "outputs": [],
   "source": [
    "# merge the dataset with the query (the queries are the first 50 rows)\n",
    "query_plus_df = pd.concat([query, df])"
   ]
  },
  {
   "cell_type": "code",
   "execution_count": null,
   "id": "b627d5fa",
   "metadata": {},
   "outputs": [
    {
     "name": "stderr",
     "output_type": "stream",
     "text": [
      "100%|████████████████████████████████████████████████████████████████████████| 884265/884265 [01:34<00:00, 9330.63it/s]\n",
      "3it [00:06,  2.15s/it]"
     ]
    }
   ],
   "source": [
    "# preprocess dataset\n",
    "customers = get_customers(query_plus_df)\n",
    "customers = encoder(customers)\n",
    "# LSH\n",
    "t0 = time.time()\n",
    "signature_matrix = MinHash(customers, seed=1234)\n",
    "# np.save('/content/drive/MyDrive/ADM/Homework4/signature_matrix.npy', signature_matrix)\n",
    "# signature_matrix = np.load('/content/drive/MyDrive/ADM/Homework4/signature_matrix.npy')\n",
    "buckets = create_buckets(signature_matrix, b = 10, r=10)\n",
    "\n",
    "# find similar customers to the query\n",
    "query_result = collections.defaultdict(list)\n",
    "for i in range(len(query)):\n",
    "    similars = find_similars(i, buckets)\n",
    "    query_result[i] = similars[similars > 49]  #remove queries themselves from results\n",
    "t1 = time.time()"
   ]
  },
  {
   "cell_type": "markdown",
   "id": "275b24d3",
   "metadata": {},
   "source": [
    "To see if our LSH implementation works well we calculate the mean of the scores for each query element and then compute the mean of the results, this should be around 0.79."
   ]
  },
  {
   "cell_type": "code",
   "execution_count": null,
   "id": "f08d4722",
   "metadata": {},
   "outputs": [],
   "source": [
    "np.mean(np.array([np.mean(np.array(list(map(lambda x: J_estimate(signature_matrix, i, x), query_result[i])))) for i in range(50)]))"
   ]
  },
  {
   "cell_type": "markdown",
   "id": "dbadd66d",
   "metadata": {},
   "source": [
    "The running time is:"
   ]
  },
  {
   "cell_type": "code",
   "execution_count": null,
   "id": "aca9a509",
   "metadata": {},
   "outputs": [],
   "source": [
    "print((t1-t0))"
   ]
  },
  {
   "cell_type": "markdown",
   "id": "4632bd5c",
   "metadata": {},
   "source": [
    "# 2. Grouping customers together!"
   ]
  },
  {
   "cell_type": "markdown",
   "id": "27d7365e",
   "metadata": {},
   "source": [
    "## 2.1 Getting your data + feature engineering"
   ]
  },
  {
   "cell_type": "code",
   "execution_count": 2,
   "id": "32bf0016",
   "metadata": {},
   "outputs": [],
   "source": [
    "data = pd.read_csv(\"bank_transactions.csv\")"
   ]
  },
  {
   "cell_type": "code",
   "execution_count": 3,
   "id": "184ad873",
   "metadata": {},
   "outputs": [
    {
     "data": {
      "text/html": [
       "<div>\n",
       "<style scoped>\n",
       "    .dataframe tbody tr th:only-of-type {\n",
       "        vertical-align: middle;\n",
       "    }\n",
       "\n",
       "    .dataframe tbody tr th {\n",
       "        vertical-align: top;\n",
       "    }\n",
       "\n",
       "    .dataframe thead th {\n",
       "        text-align: right;\n",
       "    }\n",
       "</style>\n",
       "<table border=\"1\" class=\"dataframe\">\n",
       "  <thead>\n",
       "    <tr style=\"text-align: right;\">\n",
       "      <th></th>\n",
       "      <th>TransactionID</th>\n",
       "      <th>CustomerID</th>\n",
       "      <th>CustomerDOB</th>\n",
       "      <th>CustGender</th>\n",
       "      <th>CustLocation</th>\n",
       "      <th>CustAccountBalance</th>\n",
       "      <th>TransactionDate</th>\n",
       "      <th>TransactionTime</th>\n",
       "      <th>TransactionAmount (INR)</th>\n",
       "    </tr>\n",
       "  </thead>\n",
       "  <tbody>\n",
       "    <tr>\n",
       "      <th>0</th>\n",
       "      <td>T1</td>\n",
       "      <td>C5841053</td>\n",
       "      <td>10/1/94</td>\n",
       "      <td>F</td>\n",
       "      <td>JAMSHEDPUR</td>\n",
       "      <td>17819.05</td>\n",
       "      <td>2/8/16</td>\n",
       "      <td>143207</td>\n",
       "      <td>25.0</td>\n",
       "    </tr>\n",
       "    <tr>\n",
       "      <th>1</th>\n",
       "      <td>T2</td>\n",
       "      <td>C2142763</td>\n",
       "      <td>4/4/57</td>\n",
       "      <td>M</td>\n",
       "      <td>JHAJJAR</td>\n",
       "      <td>2270.69</td>\n",
       "      <td>2/8/16</td>\n",
       "      <td>141858</td>\n",
       "      <td>27999.0</td>\n",
       "    </tr>\n",
       "    <tr>\n",
       "      <th>2</th>\n",
       "      <td>T3</td>\n",
       "      <td>C4417068</td>\n",
       "      <td>26/11/96</td>\n",
       "      <td>F</td>\n",
       "      <td>MUMBAI</td>\n",
       "      <td>17874.44</td>\n",
       "      <td>2/8/16</td>\n",
       "      <td>142712</td>\n",
       "      <td>459.0</td>\n",
       "    </tr>\n",
       "    <tr>\n",
       "      <th>3</th>\n",
       "      <td>T4</td>\n",
       "      <td>C5342380</td>\n",
       "      <td>14/9/73</td>\n",
       "      <td>F</td>\n",
       "      <td>MUMBAI</td>\n",
       "      <td>866503.21</td>\n",
       "      <td>2/8/16</td>\n",
       "      <td>142714</td>\n",
       "      <td>2060.0</td>\n",
       "    </tr>\n",
       "    <tr>\n",
       "      <th>4</th>\n",
       "      <td>T5</td>\n",
       "      <td>C9031234</td>\n",
       "      <td>24/3/88</td>\n",
       "      <td>F</td>\n",
       "      <td>NAVI MUMBAI</td>\n",
       "      <td>6714.43</td>\n",
       "      <td>2/8/16</td>\n",
       "      <td>181156</td>\n",
       "      <td>1762.5</td>\n",
       "    </tr>\n",
       "    <tr>\n",
       "      <th>...</th>\n",
       "      <td>...</td>\n",
       "      <td>...</td>\n",
       "      <td>...</td>\n",
       "      <td>...</td>\n",
       "      <td>...</td>\n",
       "      <td>...</td>\n",
       "      <td>...</td>\n",
       "      <td>...</td>\n",
       "      <td>...</td>\n",
       "    </tr>\n",
       "    <tr>\n",
       "      <th>1048562</th>\n",
       "      <td>T1048563</td>\n",
       "      <td>C8020229</td>\n",
       "      <td>8/4/90</td>\n",
       "      <td>M</td>\n",
       "      <td>NEW DELHI</td>\n",
       "      <td>7635.19</td>\n",
       "      <td>18/9/16</td>\n",
       "      <td>184824</td>\n",
       "      <td>799.0</td>\n",
       "    </tr>\n",
       "    <tr>\n",
       "      <th>1048563</th>\n",
       "      <td>T1048564</td>\n",
       "      <td>C6459278</td>\n",
       "      <td>20/2/92</td>\n",
       "      <td>M</td>\n",
       "      <td>NASHIK</td>\n",
       "      <td>27311.42</td>\n",
       "      <td>18/9/16</td>\n",
       "      <td>183734</td>\n",
       "      <td>460.0</td>\n",
       "    </tr>\n",
       "    <tr>\n",
       "      <th>1048564</th>\n",
       "      <td>T1048565</td>\n",
       "      <td>C6412354</td>\n",
       "      <td>18/5/89</td>\n",
       "      <td>M</td>\n",
       "      <td>HYDERABAD</td>\n",
       "      <td>221757.06</td>\n",
       "      <td>18/9/16</td>\n",
       "      <td>183313</td>\n",
       "      <td>770.0</td>\n",
       "    </tr>\n",
       "    <tr>\n",
       "      <th>1048565</th>\n",
       "      <td>T1048566</td>\n",
       "      <td>C6420483</td>\n",
       "      <td>30/8/78</td>\n",
       "      <td>M</td>\n",
       "      <td>VISAKHAPATNAM</td>\n",
       "      <td>10117.87</td>\n",
       "      <td>18/9/16</td>\n",
       "      <td>184706</td>\n",
       "      <td>1000.0</td>\n",
       "    </tr>\n",
       "    <tr>\n",
       "      <th>1048566</th>\n",
       "      <td>T1048567</td>\n",
       "      <td>C8337524</td>\n",
       "      <td>5/3/84</td>\n",
       "      <td>M</td>\n",
       "      <td>PUNE</td>\n",
       "      <td>75734.42</td>\n",
       "      <td>18/9/16</td>\n",
       "      <td>181222</td>\n",
       "      <td>1166.0</td>\n",
       "    </tr>\n",
       "  </tbody>\n",
       "</table>\n",
       "<p>1048567 rows × 9 columns</p>\n",
       "</div>"
      ],
      "text/plain": [
       "        TransactionID CustomerID CustomerDOB CustGender   CustLocation  \\\n",
       "0                  T1   C5841053     10/1/94          F     JAMSHEDPUR   \n",
       "1                  T2   C2142763      4/4/57          M        JHAJJAR   \n",
       "2                  T3   C4417068    26/11/96          F         MUMBAI   \n",
       "3                  T4   C5342380     14/9/73          F         MUMBAI   \n",
       "4                  T5   C9031234     24/3/88          F    NAVI MUMBAI   \n",
       "...               ...        ...         ...        ...            ...   \n",
       "1048562      T1048563   C8020229      8/4/90          M      NEW DELHI   \n",
       "1048563      T1048564   C6459278     20/2/92          M         NASHIK   \n",
       "1048564      T1048565   C6412354     18/5/89          M      HYDERABAD   \n",
       "1048565      T1048566   C6420483     30/8/78          M  VISAKHAPATNAM   \n",
       "1048566      T1048567   C8337524      5/3/84          M           PUNE   \n",
       "\n",
       "         CustAccountBalance TransactionDate  TransactionTime  \\\n",
       "0                  17819.05          2/8/16           143207   \n",
       "1                   2270.69          2/8/16           141858   \n",
       "2                  17874.44          2/8/16           142712   \n",
       "3                 866503.21          2/8/16           142714   \n",
       "4                   6714.43          2/8/16           181156   \n",
       "...                     ...             ...              ...   \n",
       "1048562             7635.19         18/9/16           184824   \n",
       "1048563            27311.42         18/9/16           183734   \n",
       "1048564           221757.06         18/9/16           183313   \n",
       "1048565            10117.87         18/9/16           184706   \n",
       "1048566            75734.42         18/9/16           181222   \n",
       "\n",
       "         TransactionAmount (INR)  \n",
       "0                           25.0  \n",
       "1                        27999.0  \n",
       "2                          459.0  \n",
       "3                         2060.0  \n",
       "4                         1762.5  \n",
       "...                          ...  \n",
       "1048562                    799.0  \n",
       "1048563                    460.0  \n",
       "1048564                    770.0  \n",
       "1048565                   1000.0  \n",
       "1048566                   1166.0  \n",
       "\n",
       "[1048567 rows x 9 columns]"
      ]
     },
     "execution_count": 3,
     "metadata": {},
     "output_type": "execute_result"
    }
   ],
   "source": [
    "data"
   ]
  },
  {
   "cell_type": "markdown",
   "id": "95501602",
   "metadata": {},
   "source": [
    "We created the seven features. They are the following: <br><br>\n",
    "    <b>1. no_of_transactions</b> = Number of transactions executed by each customer<br>\n",
    "    <b>2. no_of_big_transactions</b> = Number of transactions with a balance bigger than 100 dollars<br>\n",
    "    <b>3. avg_transaction_amount</b> = The average amount of each transfer by each customer<br>\n",
    "    <b>4. avg_balance</b> = Average balance of each customer<br>\n",
    "    <b>5. utilisation</b> = Average difference between the balance and the transaction amount for each customer<br>\n",
    "    <b>6. most_common_gender</b>  = Most common gender of each customer<br>\n",
    "    <b>7. most_common_location</b>  = Most common location of each customer<br>"
   ]
  },
  {
   "cell_type": "code",
   "execution_count": 4,
   "id": "3c0adf25",
   "metadata": {},
   "outputs": [
    {
     "name": "stderr",
     "output_type": "stream",
     "text": [
      "C:\\Users\\borit\\AppData\\Local\\Temp\\ipykernel_12516\\164496312.py:12: SettingWithCopyWarning: \n",
      "A value is trying to be set on a copy of a slice from a DataFrame.\n",
      "Try using .loc[row_indexer,col_indexer] = value instead\n",
      "\n",
      "See the caveats in the documentation: https://pandas.pydata.org/pandas-docs/stable/user_guide/indexing.html#returning-a-view-versus-a-copy\n",
      "  data4['diff'] = data4[\"CustAccountBalance\"] - data4[\"TransactionAmount (INR)\"]\n"
     ]
    }
   ],
   "source": [
    "data2 = data.groupby(['CustomerID'])['CustomerID'].count().reset_index(name='no_of_transactions')\n",
    "data3 = data.groupby(['CustomerID'])[\"TransactionAmount (INR)\"].apply(lambda x: (x>100.0).sum()).reset_index(name='no_of_big_transactions')\n",
    "data_final = pd.merge(data2,data3, on=\"CustomerID\", how='left')\n",
    "\n",
    "data4= data.groupby(['CustomerID'])[\"TransactionAmount (INR)\"].mean().reset_index(name='avg_transaction_amount')\n",
    "data_final = pd.merge(data_final,data4, on=\"CustomerID\", how='left')\n",
    "\n",
    "data4= data.groupby(['CustomerID'])[\"CustAccountBalance\"].mean().reset_index(name='avg_balance')\n",
    "data_final = pd.merge(data_final,data4, on=\"CustomerID\", how='left')\n",
    "\n",
    "data4 = data[[\"CustomerID\", \"CustAccountBalance\", \"TransactionAmount (INR)\"]]\n",
    "data4['diff'] = data4[\"CustAccountBalance\"] - data4[\"TransactionAmount (INR)\"]\n",
    "data4 = data4.groupby([\"CustomerID\"])[\"diff\"].mean().reset_index(name='utilisation')\n",
    "data_final = pd.merge(data_final,data4, on=\"CustomerID\", how='left')\n",
    "\n",
    "data4= data.groupby(['CustomerID'])['CustGender'].agg(pd.Series.mode).reset_index(name='most_common_gender')\n",
    "data_final = pd.merge(data_final,data4, on=\"CustomerID\", how='left')\n",
    "\n",
    "data4= data.groupby(['CustomerID'])['CustLocation'].agg(pd.Series.mode).reset_index(name='most_common_location')\n",
    "data_final = pd.merge(data_final,data4, on=\"CustomerID\", how='left')"
   ]
  },
  {
   "cell_type": "code",
   "execution_count": 5,
   "id": "b1f177e1",
   "metadata": {},
   "outputs": [
    {
     "data": {
      "text/html": [
       "<div>\n",
       "<style scoped>\n",
       "    .dataframe tbody tr th:only-of-type {\n",
       "        vertical-align: middle;\n",
       "    }\n",
       "\n",
       "    .dataframe tbody tr th {\n",
       "        vertical-align: top;\n",
       "    }\n",
       "\n",
       "    .dataframe thead th {\n",
       "        text-align: right;\n",
       "    }\n",
       "</style>\n",
       "<table border=\"1\" class=\"dataframe\">\n",
       "  <thead>\n",
       "    <tr style=\"text-align: right;\">\n",
       "      <th></th>\n",
       "      <th>CustomerID</th>\n",
       "      <th>no_of_transactions</th>\n",
       "      <th>no_of_big_transactions</th>\n",
       "      <th>avg_transaction_amount</th>\n",
       "      <th>avg_balance</th>\n",
       "      <th>utilisation</th>\n",
       "      <th>most_common_gender</th>\n",
       "      <th>most_common_location</th>\n",
       "    </tr>\n",
       "  </thead>\n",
       "  <tbody>\n",
       "    <tr>\n",
       "      <th>0</th>\n",
       "      <td>C1010011</td>\n",
       "      <td>2</td>\n",
       "      <td>2</td>\n",
       "      <td>2553.0</td>\n",
       "      <td>76340.635</td>\n",
       "      <td>73787.635</td>\n",
       "      <td>[F, M]</td>\n",
       "      <td>[NEW DELHI, NOIDA]</td>\n",
       "    </tr>\n",
       "    <tr>\n",
       "      <th>1</th>\n",
       "      <td>C1010012</td>\n",
       "      <td>1</td>\n",
       "      <td>1</td>\n",
       "      <td>1499.0</td>\n",
       "      <td>24204.490</td>\n",
       "      <td>22705.490</td>\n",
       "      <td>M</td>\n",
       "      <td>MUMBAI</td>\n",
       "    </tr>\n",
       "    <tr>\n",
       "      <th>2</th>\n",
       "      <td>C1010014</td>\n",
       "      <td>2</td>\n",
       "      <td>2</td>\n",
       "      <td>727.5</td>\n",
       "      <td>100112.950</td>\n",
       "      <td>99385.450</td>\n",
       "      <td>[F, M]</td>\n",
       "      <td>MUMBAI</td>\n",
       "    </tr>\n",
       "    <tr>\n",
       "      <th>3</th>\n",
       "      <td>C1010018</td>\n",
       "      <td>1</td>\n",
       "      <td>0</td>\n",
       "      <td>30.0</td>\n",
       "      <td>496.180</td>\n",
       "      <td>466.180</td>\n",
       "      <td>F</td>\n",
       "      <td>CHAMPARAN</td>\n",
       "    </tr>\n",
       "    <tr>\n",
       "      <th>4</th>\n",
       "      <td>C1010024</td>\n",
       "      <td>1</td>\n",
       "      <td>1</td>\n",
       "      <td>5000.0</td>\n",
       "      <td>87058.650</td>\n",
       "      <td>82058.650</td>\n",
       "      <td>M</td>\n",
       "      <td>KOLKATA</td>\n",
       "    </tr>\n",
       "    <tr>\n",
       "      <th>...</th>\n",
       "      <td>...</td>\n",
       "      <td>...</td>\n",
       "      <td>...</td>\n",
       "      <td>...</td>\n",
       "      <td>...</td>\n",
       "      <td>...</td>\n",
       "      <td>...</td>\n",
       "      <td>...</td>\n",
       "    </tr>\n",
       "    <tr>\n",
       "      <th>884260</th>\n",
       "      <td>C9099836</td>\n",
       "      <td>1</td>\n",
       "      <td>1</td>\n",
       "      <td>691.0</td>\n",
       "      <td>133067.230</td>\n",
       "      <td>132376.230</td>\n",
       "      <td>M</td>\n",
       "      <td>BHIWANDI</td>\n",
       "    </tr>\n",
       "    <tr>\n",
       "      <th>884261</th>\n",
       "      <td>C9099877</td>\n",
       "      <td>1</td>\n",
       "      <td>1</td>\n",
       "      <td>222.0</td>\n",
       "      <td>96063.460</td>\n",
       "      <td>95841.460</td>\n",
       "      <td>M</td>\n",
       "      <td>BANGALORE</td>\n",
       "    </tr>\n",
       "    <tr>\n",
       "      <th>884262</th>\n",
       "      <td>C9099919</td>\n",
       "      <td>1</td>\n",
       "      <td>1</td>\n",
       "      <td>126.0</td>\n",
       "      <td>5559.750</td>\n",
       "      <td>5433.750</td>\n",
       "      <td>M</td>\n",
       "      <td>GUNTUR</td>\n",
       "    </tr>\n",
       "    <tr>\n",
       "      <th>884263</th>\n",
       "      <td>C9099941</td>\n",
       "      <td>1</td>\n",
       "      <td>0</td>\n",
       "      <td>50.0</td>\n",
       "      <td>35295.920</td>\n",
       "      <td>35245.920</td>\n",
       "      <td>M</td>\n",
       "      <td>CHENNAI</td>\n",
       "    </tr>\n",
       "    <tr>\n",
       "      <th>884264</th>\n",
       "      <td>C9099956</td>\n",
       "      <td>1</td>\n",
       "      <td>1</td>\n",
       "      <td>855.0</td>\n",
       "      <td>6968.930</td>\n",
       "      <td>6113.930</td>\n",
       "      <td>M</td>\n",
       "      <td>MUSSOORIE</td>\n",
       "    </tr>\n",
       "  </tbody>\n",
       "</table>\n",
       "<p>884265 rows × 8 columns</p>\n",
       "</div>"
      ],
      "text/plain": [
       "       CustomerID  no_of_transactions  no_of_big_transactions  \\\n",
       "0        C1010011                   2                       2   \n",
       "1        C1010012                   1                       1   \n",
       "2        C1010014                   2                       2   \n",
       "3        C1010018                   1                       0   \n",
       "4        C1010024                   1                       1   \n",
       "...           ...                 ...                     ...   \n",
       "884260   C9099836                   1                       1   \n",
       "884261   C9099877                   1                       1   \n",
       "884262   C9099919                   1                       1   \n",
       "884263   C9099941                   1                       0   \n",
       "884264   C9099956                   1                       1   \n",
       "\n",
       "        avg_transaction_amount  avg_balance  utilisation most_common_gender  \\\n",
       "0                       2553.0    76340.635    73787.635             [F, M]   \n",
       "1                       1499.0    24204.490    22705.490                  M   \n",
       "2                        727.5   100112.950    99385.450             [F, M]   \n",
       "3                         30.0      496.180      466.180                  F   \n",
       "4                       5000.0    87058.650    82058.650                  M   \n",
       "...                        ...          ...          ...                ...   \n",
       "884260                   691.0   133067.230   132376.230                  M   \n",
       "884261                   222.0    96063.460    95841.460                  M   \n",
       "884262                   126.0     5559.750     5433.750                  M   \n",
       "884263                    50.0    35295.920    35245.920                  M   \n",
       "884264                   855.0     6968.930     6113.930                  M   \n",
       "\n",
       "       most_common_location  \n",
       "0        [NEW DELHI, NOIDA]  \n",
       "1                    MUMBAI  \n",
       "2                    MUMBAI  \n",
       "3                 CHAMPARAN  \n",
       "4                   KOLKATA  \n",
       "...                     ...  \n",
       "884260             BHIWANDI  \n",
       "884261            BANGALORE  \n",
       "884262               GUNTUR  \n",
       "884263              CHENNAI  \n",
       "884264            MUSSOORIE  \n",
       "\n",
       "[884265 rows x 8 columns]"
      ]
     },
     "execution_count": 5,
     "metadata": {},
     "output_type": "execute_result"
    }
   ],
   "source": [
    "data_final"
   ]
  },
  {
   "cell_type": "markdown",
   "id": "300197c6",
   "metadata": {},
   "source": [
    "We created 20 custom features. They are the following: <br>\n",
    "<b>1. avg_transaction_time</b> = The average transaction time for each customer<br>\n",
    "<b>2. age</b> = Average age of the customer in years<br>\n",
    "<b>3. max_transaction</b> = Biggest transaction of each customer<br>\n",
    "<b>4. min_transaction</b> = Smallest transaction of each customer<br>\n",
    "<b>5. avg_perc_transfered</b> = What percentage of the customer's balance has been transferred on average<br>\n",
    "<b>6. perc_of_big_transaction</b> = Percentage of transactions where a bigger amount than 100 dollars were transferred<br>\n",
    "<b>7. all_money_transacted</b> = All of the money transacted by each customer <br>\n",
    "<b>8. avg_afternoon_transaction</b> = The average amount of each transaction in the afternoon by each customer<br>\n",
    "<b>9. avg_morning_transaction</b> = The average amount of each transaction in the morning by each customer<br>\n",
    "<b>10. 10th_percentile</b> = 10th percentile of the transactions for each customer<br>\n",
    "<b>11. 90th_percentile</b> = 90th percentile of the transactions for each customer<br>\n",
    "<b>12. med_balance </b> = Median balance of each customer<br>\n",
    "<b>13. med_transaction </b> = Median transaction of each customer<br>\n",
    "<b>14. no_of_very_big_transaction </b> = Number of transactions with a balance bigger than 1000 dollars<br>\n",
    "<b>15. max_balance</b> = Maximum amount of the balance of each customer <br>\n",
    "<b>16. min_balance</b> = Minimum amount of the balance of each customer<br>\n",
    "<b>17. avg_time_passed</b> = Average time passed between transactions<br>\n",
    "<b>18. no_of_small_transaction</b> = Number of transactions with a balance smaller than 100 dollars<br>\n",
    "<b>19. max_utilisation</b> = Biggest utilisation of each customer<br>\n",
    "<b>20. min_utilisation</b> = Smallest utilisation of each customer<br>"
   ]
  },
  {
   "cell_type": "code",
   "execution_count": 6,
   "id": "e63e1739",
   "metadata": {},
   "outputs": [],
   "source": [
    "feature= data.groupby(['CustomerID'])[\"TransactionTime\"].mean().reset_index(name='avg_transaction_time')\n",
    "data_final = pd.merge(data_final,feature, on=\"CustomerID\", how='left')\n",
    "\n",
    "feature= data.groupby(['CustomerID'])[\"TransactionAmount (INR)\"].max().reset_index(name='max_transaction')\n",
    "data_final = pd.merge(data_final,feature, on=\"CustomerID\", how='left')\n",
    "\n",
    "feature= data.groupby(['CustomerID'])[\"TransactionAmount (INR)\"].min().reset_index(name='min_transaction')\n",
    "data_final = pd.merge(data_final,feature, on=\"CustomerID\", how='left')"
   ]
  },
  {
   "cell_type": "code",
   "execution_count": 7,
   "id": "b37bfd84",
   "metadata": {},
   "outputs": [
    {
     "name": "stderr",
     "output_type": "stream",
     "text": [
      "C:\\Users\\borit\\AppData\\Local\\Temp\\ipykernel_12516\\1375357438.py:15: SettingWithCopyWarning: \n",
      "A value is trying to be set on a copy of a slice from a DataFrame.\n",
      "Try using .loc[row_indexer,col_indexer] = value instead\n",
      "\n",
      "See the caveats in the documentation: https://pandas.pydata.org/pandas-docs/stable/user_guide/indexing.html#returning-a-view-versus-a-copy\n",
      "  feature[\"age\"] = feature['CustomerDOB'].apply(lambda x: getage(x))\n"
     ]
    }
   ],
   "source": [
    "#function to add the century to the dates\n",
    "def getage(value):\n",
    "    try:\n",
    "        year = value[-2:]\n",
    "        if (int(year) > 22):\n",
    "            year = '19' + str(year)\n",
    "            return (2022-int(year))\n",
    "        else:\n",
    "            year = '20' + str(year)\n",
    "            return (2022-int(year))\n",
    "\n",
    "    except Exception as e:\n",
    "        return 0\n",
    "\n",
    "feature = data[[\"CustomerID\", \"CustomerDOB\"]]\n",
    "feature[\"age\"] = feature['CustomerDOB'].apply(lambda x: getage(x))\n",
    "feature = feature.groupby([\"CustomerID\"])[\"age\"].mean().reset_index(name='age')\n",
    "data_final = pd.merge(data_final,feature, on=\"CustomerID\", how='left')"
   ]
  },
  {
   "cell_type": "code",
   "execution_count": 8,
   "id": "57d436f8",
   "metadata": {},
   "outputs": [
    {
     "name": "stderr",
     "output_type": "stream",
     "text": [
      "C:\\Users\\borit\\AppData\\Local\\Temp\\ipykernel_12516\\2656666717.py:9: SettingWithCopyWarning: \n",
      "A value is trying to be set on a copy of a slice from a DataFrame.\n",
      "Try using .loc[row_indexer,col_indexer] = value instead\n",
      "\n",
      "See the caveats in the documentation: https://pandas.pydata.org/pandas-docs/stable/user_guide/indexing.html#returning-a-view-versus-a-copy\n",
      "  feature[\"avg_perc_transfered\"] = feature.apply(lambda x: getpercentage(x['CustAccountBalance'], x['TransactionAmount (INR)']), axis=1)\n"
     ]
    }
   ],
   "source": [
    "def getpercentage(balance, transaction_amount):\n",
    "    try:\n",
    "        return (transaction_amount/balance) * 100\n",
    "\n",
    "    except Exception as e:\n",
    "        return 0\n",
    "\n",
    "feature = data[[\"CustomerID\", \"CustAccountBalance\", \"TransactionAmount (INR)\"]]\n",
    "feature[\"avg_perc_transfered\"] = feature.apply(lambda x: getpercentage(x['CustAccountBalance'], x['TransactionAmount (INR)']), axis=1)\n",
    "feature = feature.groupby([\"CustomerID\"])[\"avg_perc_transfered\"].mean().reset_index(name='avg_perc_transfered')\n",
    "data_final = pd.merge(data_final,feature, on=\"CustomerID\", how='left')"
   ]
  },
  {
   "cell_type": "code",
   "execution_count": 9,
   "id": "2ea46b07",
   "metadata": {},
   "outputs": [],
   "source": [
    "data_final[\"perc_of_big_transaction\"] = data_final.apply(lambda x: (x['no_of_big_transactions']/x['no_of_transactions'])*100, axis = 1)\n",
    "\n",
    "feature = data.groupby(['CustomerID'])[\"TransactionAmount (INR)\"].sum().reset_index(name='all_money_transacted')\n",
    "data_final = pd.merge(data_final, feature, on=\"CustomerID\", how='left')\n",
    "\n",
    "feature = data.query('TransactionTime < 120000').groupby(['CustomerID'])[\"TransactionAmount (INR)\"].mean().reset_index(name='avg_afternoon_transaction')\n",
    "data_final = pd.merge(data_final, feature, on=\"CustomerID\", how='left')\n",
    "\n",
    "feature = data.query('TransactionTime > 120000').groupby(['CustomerID'])[\"TransactionAmount (INR)\"].mean().reset_index(name='avg_morning_transaction')\n",
    "data_final = pd.merge(data_final, feature, on=\"CustomerID\", how='left')\n",
    "\n",
    "feature= data.groupby(['CustomerID'])[\"TransactionAmount (INR)\"].quantile(0.1).reset_index(name='10th_percentile')\n",
    "data_final = pd.merge(data_final, feature, on=\"CustomerID\", how='left')\n",
    "\n",
    "feature = data.groupby(['CustomerID'])[\"TransactionAmount (INR)\"].quantile(0.9).reset_index(name='90th_percentile')\n",
    "feature = pd.merge(data_final, feature, on=\"CustomerID\", how='left')\n",
    "\n",
    "feature= data.groupby(['CustomerID'])[\"CustAccountBalance\"].median().reset_index(name='med_balance')\n",
    "data_final = pd.merge(data_final,feature, on=\"CustomerID\", how='left')\n",
    "\n",
    "feature= data.groupby(['CustomerID'])[\"TransactionAmount (INR)\"].median().reset_index(name='med_transaction')\n",
    "data_final = pd.merge(data_final,feature, on=\"CustomerID\", how='left')\n",
    "\n",
    "feature = data.groupby(['CustomerID'])[\"TransactionAmount (INR)\"].apply(lambda x: (x>1000.0).sum()).reset_index(name='no_of_very_big_transactions')\n",
    "data_final = pd.merge(data_final,feature, on=\"CustomerID\", how='left')\n",
    "\n",
    "feature = data.groupby(['CustomerID'])[\"TransactionAmount (INR)\"].apply(lambda x: (x<100.0).sum()).reset_index(name='no_of_small_transactions')\n",
    "data_final = pd.merge(data_final,feature, on=\"CustomerID\", how='left')\n",
    "\n",
    "feature= data.groupby(['CustomerID'])[\"CustAccountBalance\"].max().reset_index(name='max_balance')\n",
    "data_final = pd.merge(data_final,feature, on=\"CustomerID\", how='left')\n",
    "\n",
    "feature= data.groupby(['CustomerID'])[\"CustAccountBalance\"].min().reset_index(name='min_balance')\n",
    "data_final = pd.merge(data_final,feature, on=\"CustomerID\", how='left')\n"
   ]
  },
  {
   "cell_type": "code",
   "execution_count": 10,
   "id": "517bc167",
   "metadata": {},
   "outputs": [
    {
     "name": "stderr",
     "output_type": "stream",
     "text": [
      "C:\\Users\\borit\\AppData\\Local\\Temp\\ipykernel_12516\\302365062.py:2: SettingWithCopyWarning: \n",
      "A value is trying to be set on a copy of a slice from a DataFrame.\n",
      "Try using .loc[row_indexer,col_indexer] = value instead\n",
      "\n",
      "See the caveats in the documentation: https://pandas.pydata.org/pandas-docs/stable/user_guide/indexing.html#returning-a-view-versus-a-copy\n",
      "  feature['diff'] = feature[\"CustAccountBalance\"] - feature[\"TransactionAmount (INR)\"]\n"
     ]
    }
   ],
   "source": [
    "feature = data[[\"CustomerID\", \"CustAccountBalance\", \"TransactionAmount (INR)\"]]\n",
    "feature['diff'] = feature[\"CustAccountBalance\"] - feature[\"TransactionAmount (INR)\"]\n",
    "feature2 = feature.groupby([\"CustomerID\"])[\"diff\"].max().reset_index(name='max_utilisation')\n",
    "data_final = pd.merge(data_final,feature2, on=\"CustomerID\", how='left')\n",
    "feature2 = feature.groupby([\"CustomerID\"])[\"diff\"].min().reset_index(name='min_utilisation')\n",
    "data_final = pd.merge(data_final,feature2, on=\"CustomerID\", how='left')"
   ]
  },
  {
   "cell_type": "code",
   "execution_count": null,
   "id": "a81d3771",
   "metadata": {},
   "outputs": [],
   "source": [
    "from tqdm import tqdm\n",
    "\n",
    "#calculates the difference between to dates\n",
    "def getdiff(custid):\n",
    "    transactions = data.query('CustomerID == @custid')[\"TransactionDate\"]\n",
    "    tran_list = transactions.tolist()\n",
    "\n",
    "    first_tran = tran_list[0]\n",
    "    first_tran = datetime.strptime(first_tran, \"%d/%m/%y\")\n",
    "    tran_list.pop(0)\n",
    "    sum_diff = 0\n",
    "\n",
    "    for tran in transactions:\n",
    "        tran = datetime.strptime(tran, \"%d/%m/%y\")\n",
    "        sum_diff += (first_tran - tran).days\n",
    "        first_tran = tran\n",
    "    \n",
    "    if tran_list == []:\n",
    "        return 0\n",
    "\n",
    "    return(abs(sum_diff / (len(transactions)-1)))\n",
    "\n",
    "tqdm.pandas()\n",
    "#getdiff('C1010014')\n",
    "data_final[\"avg_time_passed\"] = data_final.progress_apply(lambda x: getdiff(x['CustomerID']), axis=1)"
   ]
  },
  {
   "cell_type": "markdown",
   "id": "4f35330d",
   "metadata": {},
   "source": [
    "# 2.2 Choose your features (variables)!"
   ]
  },
  {
   "cell_type": "markdown",
   "id": "5ab756df",
   "metadata": {},
   "source": [
    "We normalised all numerical features with the exception of \"no_of_transaction\" and age. For the principal component analysis, we deleted all the rows from where any data was missing."
   ]
  },
  {
   "cell_type": "code",
   "execution_count": 60,
   "id": "65669814",
   "metadata": {},
   "outputs": [],
   "source": [
    "from sklearn.preprocessing import StandardScaler\n",
    "columns = [\"max_utilisation\", \"avg_transaction_time\", \"min_utilisation\", \"min_balance\", '10th_percentile', 'avg_morning_transaction', 'avg_afternoon_transaction',  \"avg_transaction_amount\", \"max_balance\", \"med_transaction\", \"med_balance\", \"utilisation\", \"avg_balance\", \"max_transaction\", \"min_transaction\"]\n",
    "data_final_norm = data_final.dropna().loc[:, columns].values\n",
    "data_final_norm = StandardScaler().fit_transform(data_final_norm)"
   ]
  },
  {
   "cell_type": "code",
   "execution_count": 19,
   "id": "db155cde",
   "metadata": {},
   "outputs": [
    {
     "data": {
      "text/plain": [
       "array([[-7.95693829e-02, -2.64765193e+00,  2.98970927e-02, ...,\n",
       "        -5.61085094e-02,  2.31146094e-01,  4.37645046e-02],\n",
       "       [-1.58713209e-01,  1.31791986e+00, -4.17282275e-02, ...,\n",
       "        -1.50588442e-01, -1.61814260e-01,  9.61455845e-02],\n",
       "       [ 1.01351525e-01,  7.22254554e-01, -2.57639757e-02, ...,\n",
       "         9.83574615e-02, -2.52589296e-01, -2.90164879e-01],\n",
       "       ...,\n",
       "       [-8.05589413e-02,  2.41621448e-01,  1.01148029e-03, ...,\n",
       "        -6.65746745e-02, -2.16757045e-01,  9.17804945e-02],\n",
       "       [-1.53554246e-01, -2.56628008e+00, -4.22764737e-02, ...,\n",
       "        -1.46998514e-01, -3.24253798e-01, -3.11990329e-01],\n",
       "       [-1.56691428e-01,  9.06980535e-01, -2.33576394e-02, ...,\n",
       "        -1.43670695e-01, -4.26123043e-02, -1.53755817e-01]])"
      ]
     },
     "execution_count": 19,
     "metadata": {},
     "output_type": "execute_result"
    }
   ],
   "source": [
    "data_final_norm"
   ]
  },
  {
   "cell_type": "markdown",
   "id": "a1c2a0d7",
   "metadata": {},
   "source": [
    "# Principal Component Analysis"
   ]
  },
  {
   "cell_type": "markdown",
   "id": "2dcfe113",
   "metadata": {},
   "source": [
    "5 components -> 92% </br>\n",
    "3 components -> 77% </br>\n",
    "2 components -> 67% </br>"
   ]
  },
  {
   "cell_type": "code",
   "execution_count": 61,
   "id": "5aaae6d5",
   "metadata": {},
   "outputs": [],
   "source": [
    "from sklearn.decomposition import PCA\n",
    "pca = PCA(n_components=3)\n",
    "principalComponents = pca.fit_transform(data_final_norm)\n",
    "data_final_norm = pd.DataFrame(data = principalComponents, columns = ['component_1', 'component_2', 'component_3'])"
   ]
  },
  {
   "cell_type": "code",
   "execution_count": 21,
   "id": "e3f3ac26",
   "metadata": {},
   "outputs": [
    {
     "data": {
      "text/html": [
       "<div>\n",
       "<style scoped>\n",
       "    .dataframe tbody tr th:only-of-type {\n",
       "        vertical-align: middle;\n",
       "    }\n",
       "\n",
       "    .dataframe tbody tr th {\n",
       "        vertical-align: top;\n",
       "    }\n",
       "\n",
       "    .dataframe thead th {\n",
       "        text-align: right;\n",
       "    }\n",
       "</style>\n",
       "<table border=\"1\" class=\"dataframe\">\n",
       "  <thead>\n",
       "    <tr style=\"text-align: right;\">\n",
       "      <th></th>\n",
       "      <th>component_1</th>\n",
       "      <th>component_2</th>\n",
       "      <th>component_3</th>\n",
       "    </tr>\n",
       "  </thead>\n",
       "  <tbody>\n",
       "    <tr>\n",
       "      <th>0</th>\n",
       "      <td>0.080533</td>\n",
       "      <td>0.603975</td>\n",
       "      <td>0.063059</td>\n",
       "    </tr>\n",
       "    <tr>\n",
       "      <th>1</th>\n",
       "      <td>-0.395403</td>\n",
       "      <td>-0.117370</td>\n",
       "      <td>0.083558</td>\n",
       "    </tr>\n",
       "    <tr>\n",
       "      <th>2</th>\n",
       "      <td>-0.009924</td>\n",
       "      <td>-0.708665</td>\n",
       "      <td>-0.118948</td>\n",
       "    </tr>\n",
       "    <tr>\n",
       "      <th>3</th>\n",
       "      <td>-0.467626</td>\n",
       "      <td>-0.441364</td>\n",
       "      <td>0.101916</td>\n",
       "    </tr>\n",
       "    <tr>\n",
       "      <th>4</th>\n",
       "      <td>-0.194437</td>\n",
       "      <td>-0.505227</td>\n",
       "      <td>0.151018</td>\n",
       "    </tr>\n",
       "    <tr>\n",
       "      <th>...</th>\n",
       "      <td>...</td>\n",
       "      <td>...</td>\n",
       "      <td>...</td>\n",
       "    </tr>\n",
       "    <tr>\n",
       "      <th>51177</th>\n",
       "      <td>-0.420179</td>\n",
       "      <td>-0.564061</td>\n",
       "      <td>0.019011</td>\n",
       "    </tr>\n",
       "    <tr>\n",
       "      <th>51178</th>\n",
       "      <td>-0.180120</td>\n",
       "      <td>-0.611524</td>\n",
       "      <td>0.342148</td>\n",
       "    </tr>\n",
       "    <tr>\n",
       "      <th>51179</th>\n",
       "      <td>-0.239279</td>\n",
       "      <td>-0.287601</td>\n",
       "      <td>0.065604</td>\n",
       "    </tr>\n",
       "    <tr>\n",
       "      <th>51180</th>\n",
       "      <td>-0.545418</td>\n",
       "      <td>-0.707518</td>\n",
       "      <td>0.034672</td>\n",
       "    </tr>\n",
       "    <tr>\n",
       "      <th>51181</th>\n",
       "      <td>-0.347361</td>\n",
       "      <td>-0.036951</td>\n",
       "      <td>0.090946</td>\n",
       "    </tr>\n",
       "  </tbody>\n",
       "</table>\n",
       "<p>51182 rows × 3 columns</p>\n",
       "</div>"
      ],
      "text/plain": [
       "       component_1  component_2  component_3\n",
       "0         0.080533     0.603975     0.063059\n",
       "1        -0.395403    -0.117370     0.083558\n",
       "2        -0.009924    -0.708665    -0.118948\n",
       "3        -0.467626    -0.441364     0.101916\n",
       "4        -0.194437    -0.505227     0.151018\n",
       "...            ...          ...          ...\n",
       "51177    -0.420179    -0.564061     0.019011\n",
       "51178    -0.180120    -0.611524     0.342148\n",
       "51179    -0.239279    -0.287601     0.065604\n",
       "51180    -0.545418    -0.707518     0.034672\n",
       "51181    -0.347361    -0.036951     0.090946\n",
       "\n",
       "[51182 rows x 3 columns]"
      ]
     },
     "execution_count": 21,
     "metadata": {},
     "output_type": "execute_result"
    }
   ],
   "source": [
    "data_final_norm"
   ]
  },
  {
   "cell_type": "code",
   "execution_count": 22,
   "id": "3eb4f829",
   "metadata": {},
   "outputs": [
    {
     "data": {
      "text/plain": [
       "0.7755864359619521"
      ]
     },
     "execution_count": 22,
     "metadata": {},
     "output_type": "execute_result"
    }
   ],
   "source": [
    "import numpy as np\n",
    "np.sum(pca.explained_variance_ratio_)"
   ]
  },
  {
   "cell_type": "code",
   "execution_count": 23,
   "id": "8a964161",
   "metadata": {},
   "outputs": [
    {
     "data": {
      "image/png": "[encoded data removed]",
      "text/plain": [
       "<Figure size 800x800 with 1 Axes>"
      ]
     },
     "metadata": {},
     "output_type": "display_data"
    }
   ],
   "source": [
    "import matplotlib.pyplot as plt\n",
    "\n",
    "fig = plt.figure(figsize = (8,8))\n",
    "ax = fig.add_subplot(1,1,1) \n",
    "ax.set_xlabel('component_1', fontsize = 15)\n",
    "ax.set_ylabel('component_2', fontsize = 15)\n",
    "ax.set_title('2 component PCA', fontsize = 20)\n",
    "\n",
    "ax.scatter(data_final_norm['component_1'], data_final_norm['component_2'])\n",
    "\n",
    "ax.grid()"
   ]
  },
  {
   "cell_type": "markdown",
   "id": "6279fddf",
   "metadata": {},
   "source": [
    "# 2.3 Clustering!"
   ]
  },
  {
   "cell_type": "code",
   "execution_count": 24,
   "id": "98df67f5",
   "metadata": {},
   "outputs": [],
   "source": [
    "def euclidean(x, y): \n",
    "    dist = math.pow(x-y, 2)\n",
    "\n",
    "    return math.sqrt(dist)"
   ]
  },
  {
   "cell_type": "code",
   "execution_count": 63,
   "id": "a43e79ba",
   "metadata": {},
   "outputs": [],
   "source": [
    "def getmean(x):\n",
    "    sum_x = 0\n",
    "    for i in x:\n",
    "        sum_x += i\n",
    "        \n",
    "    mean = sum_x/len(x)\n",
    "\n",
    "    return(mean)"
   ]
  },
  {
   "cell_type": "code",
   "execution_count": 34,
   "id": "85abb1ff",
   "metadata": {},
   "outputs": [],
   "source": [
    "def kmeans_sort(x, centroids):\n",
    "        \n",
    "    mean = x[\"mean\"]\n",
    "    \n",
    "    min_dist = euclidean(mean, centroids[0])\n",
    "    min_centroid = centroids[0]\n",
    "    for c in range(1, len(centroids)):\n",
    "        dist = euclidean(mean, centroids[c])\n",
    "        if min_dist > dist:\n",
    "            min_dist = dist\n",
    "            min_centroid = centroids[c]\n",
    "    \n",
    "    return(min_centroid)"
   ]
  },
  {
   "cell_type": "code",
   "execution_count": 65,
   "id": "68afe9d5",
   "metadata": {},
   "outputs": [],
   "source": [
    "def kmeans(clusters, centroids_no, iterations):\n",
    "    centroids = []\n",
    "    for i in range(centroids_no):\n",
    "        random = np.random.randint(0,len(data_final_norm))\n",
    "        #data_final_norm.loc[random].mean(axis=0)\n",
    "        centroids.append(data_final_norm.loc[random].mean(axis=0))\n",
    "    #data_final_norm[\"mean\"] = data_final_norm.apply(lambda x: getmean(x), axis=1)\n",
    "    for i in range(iterations):\n",
    "        data_final_norm[\"centroid\"] = data_final_norm.apply(lambda x: kmeans_sort(x, centroids), axis=1)\n",
    "        new_centroids = []\n",
    "        for c in centroids:\n",
    "            new_centroid = data_final_norm.query('centroid == @c')[\"mean\"].mean()\n",
    "            new_centroids.append(new_centroid)\n",
    "        centroids = new_centroids\n",
    "    \n",
    "    return(centroids)"
   ]
  },
  {
   "cell_type": "code",
   "execution_count": 66,
   "id": "291eb2d0",
   "metadata": {},
   "outputs": [
    {
     "data": {
      "text/plain": [
       "[1.8433891296518372,\n",
       " -0.19644813828815966,\n",
       " -0.2967263637995639,\n",
       " 0.1458734435784263,\n",
       " 0.035679405095901846,\n",
       " -0.23177938107349125,\n",
       " 13.961144338888221,\n",
       " -0.35036931486626666,\n",
       " -0.38279527233290167,\n",
       " -0.07819871366557438,\n",
       " -0.4119281328512224,\n",
       " -0.3117758543300843,\n",
       " -0.14014823740367635,\n",
       " -0.24994343915776443,\n",
       " -0.3598980239429256,\n",
       " -0.37050388015446173,\n",
       " -0.396836594726436,\n",
       " -0.3397360026661568,\n",
       " -0.27475407523364354,\n",
       " -0.2129821195546626,\n",
       " 0.34985243880511524,\n",
       " -0.18007718025589725,\n",
       " -0.3269558616514071,\n",
       " -0.11277000853810054,\n",
       " -0.26416830099201427,\n",
       " -0.28452655222851114,\n",
       " -0.16183155389082984,\n",
       " -0.03279802239001816,\n",
       " 4.643110959797558,\n",
       " 0.7781717687182106]"
      ]
     },
     "execution_count": 66,
     "metadata": {},
     "output_type": "execute_result"
    }
   ],
   "source": [
    "kmeans(10,30,5)"
   ]
  },
  {
   "cell_type": "markdown",
   "id": "d0ffade1",
   "metadata": {},
   "source": [
    "Find an optimal number of clusters. Use at least two different methods. If your algorithms provide diverse optimal K's, select one of them and explain why you chose it."
   ]
  },
  {
   "cell_type": "markdown",
   "id": "de2ac8d9",
   "metadata": {},
   "source": [
    "## Elbow method"
   ]
  },
  {
   "cell_type": "code",
   "execution_count": 74,
   "id": "cde8002b",
   "metadata": {},
   "outputs": [
    {
     "data": {
      "image/png": "[encoded data removed]",
      "text/plain": [
       "<Figure size 800x550 with 2 Axes>"
      ]
     },
     "metadata": {},
     "output_type": "display_data"
    },
    {
     "data": {
      "text/plain": [
       "<AxesSubplot: title={'center': 'Distortion Score Elbow for KMeans Clustering'}, xlabel='k', ylabel='distortion score'>"
      ]
     },
     "execution_count": 74,
     "metadata": {},
     "output_type": "execute_result"
    }
   ],
   "source": [
    "from yellowbrick.cluster import KElbowVisualizer\n",
    "from sklearn.cluster import KMeans\n",
    "\n",
    "X = kmeans(10,30,5)\n",
    "\n",
    "model = KMeans()\n",
    "visualizer = KElbowVisualizer(model, k=(4,12))\n",
    "X = np.array(X)\n",
    "\n",
    "visualizer.fit(data_final_norm)        \n",
    "visualizer.show()       "
   ]
  },
  {
   "cell_type": "markdown",
   "id": "7067ef5c",
   "metadata": {},
   "source": [
    "## Calinski-Harabasz"
   ]
  },
  {
   "cell_type": "code",
   "execution_count": 76,
   "id": "7bf80f79",
   "metadata": {},
   "outputs": [
    {
     "name": "stderr",
     "output_type": "stream",
     "text": [
      "C:\\Users\\borit\\AppData\\Local\\Programs\\Python\\Python310\\lib\\site-packages\\yellowbrick\\utils\\kneed.py:156: YellowbrickWarning: No 'knee' or 'elbow point' detected This could be due to bad clustering, no actual clusters being formed etc.\n",
      "  warnings.warn(warning_message, YellowbrickWarning)\n",
      "C:\\Users\\borit\\AppData\\Local\\Programs\\Python\\Python310\\lib\\site-packages\\yellowbrick\\cluster\\elbow.py:374: YellowbrickWarning: No 'knee' or 'elbow' point detected, pass `locate_elbow=False` to remove the warning\n",
      "  warnings.warn(warning_message, YellowbrickWarning)\n"
     ]
    },
    {
     "data": {
      "image/png": "[encoded data removed]",
      "text/plain": [
       "<Figure size 800x550 with 1 Axes>"
      ]
     },
     "metadata": {},
     "output_type": "display_data"
    },
    {
     "data": {
      "text/plain": [
       "<AxesSubplot: title={'center': 'Calinski Harabasz Score Elbow for KMeans Clustering'}, xlabel='k', ylabel='calinski harabasz score'>"
      ]
     },
     "execution_count": 76,
     "metadata": {},
     "output_type": "execute_result"
    }
   ],
   "source": [
    "visualizer = KElbowVisualizer(\n",
    "    model, k=(4,12), metric='calinski_harabasz', timings=False\n",
    ")\n",
    "\n",
    "visualizer.fit(data_final_norm)       \n",
    "visualizer.show()"
   ]
  },
  {
   "cell_type": "markdown",
   "id": "497aa067",
   "metadata": {},
   "source": [
    "# ALGORITHMIC QUESTION"
   ]
  },
  {
   "cell_type": "markdown",
   "id": "78fbd5a6",
   "metadata": {},
   "source": [
    "Output “YES” if having G guards is enough to respect the restrictions, and “NO” if it is not enough."
   ]
  },
  {
   "cell_type": "code",
   "execution_count": null,
   "id": "f9e7464f",
   "metadata": {},
   "outputs": [],
   "source": [
    "# 1st line input:\n",
    "# N = entrances to the uni\n",
    "# M = students\n",
    "# G = guards  \n",
    "\n",
    "N, M, G = list(map(int, input().split()))\n",
    "\n",
    "# 2nd line input:\n",
    "# M integers: entry assigned to i-th student\n",
    "students = list(map(int, input().split()))\n",
    "\n",
    "guards = 1 #initialize # of guards at 1; with 0 restriction conditions falls\n",
    "for i in range(1, len(students)):\n",
    "    if (students[i] != students[i-1]) and (students[i] not in students[:i]):  \n",
    "        if students[i-1] in students[i+1:]:\n",
    "            guards += 1\n",
    "if guards <= G:\n",
    "    if G == 1:\n",
    "        print('Yes. ' + str(guards) + ' guard is enough to respect the restriction condition.')\n",
    "    else:\n",
    "        print('Yes. ' + str(guards) + ' guards are enough to respect the restriction condition.')\n",
    "else:\n",
    "    print('No. '  + str(guards) + ' guards are needed to respect the restriction conditions.')"
   ]
  },
  {
   "cell_type": "markdown",
   "id": "64f4d02d",
   "metadata": {},
   "source": [
    "No. 2 guards are needed to respect the restriction conditions."
   ]
  },
  {
   "cell_type": "code",
   "execution_count": null,
   "id": "ddf9ec5d",
   "metadata": {},
   "outputs": [],
   "source": []
  }
 ],
 "metadata": {
  "kernelspec": {
   "display_name": "Python 3 (ipykernel)",
   "language": "python",
   "name": "python3"
  },
  "language_info": {
   "codemirror_mode": {
    "name": "ipython",
    "version": 3
   },
   "file_extension": ".py",
   "mimetype": "text/x-python",
   "name": "python",
   "nbconvert_exporter": "python",
   "pygments_lexer": "ipython3",
   "version": "3.10.7"
  }
 },
 "nbformat": 4,
 "nbformat_minor": 5
}
