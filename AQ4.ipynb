{
 "cells": [
  {
   "cell_type": "markdown",
   "metadata": {},
   "source": [
    "# ALGORITHMIC QUESTION"
   ]
  },
  {
   "cell_type": "markdown",
   "metadata": {},
   "source": [
    "Output “YES” if having G guards is enough to respect the restrictions, and “NO” if it is not enough."
   ]
  },
  {
   "cell_type": "code",
   "execution_count": 17,
   "metadata": {},
   "outputs": [
    {
     "name": "stdout",
     "output_type": "stream",
     "text": [
      "No. 2 guards are needed to respect the restriction conditions.\n"
     ]
    }
   ],
   "source": [
    "# 1st line input:\n",
    "# N = entrances to the uni\n",
    "# M = students\n",
    "# G = guards  \n",
    "\n",
    "N, M, G = list(map(int, input().split()))\n",
    "\n",
    "# 2nd line input:\n",
    "# M integers: entry assigned to i-th student\n",
    "students = list(map(int, input().split()))\n",
    "\n",
    "guards = 1 #initialize # of guards at 1; with 0 restriction conditions falls\n",
    "for i in range(1, len(students)):\n",
    "    if (students[i] != students[i-1]) and (students[i] not in students[:i]):  \n",
    "        if students[i-1] in students[i+1:]:\n",
    "            guards += 1\n",
    "if guards <= G:\n",
    "    if G == 1:\n",
    "        print('Yes. ' + str(guards) + ' guard is enough to respect the restriction condition.')\n",
    "    else:\n",
    "        print('Yes. ' + str(guards) + ' guards are enough to respect the restriction condition.')\n",
    "else:\n",
    "    print('No. '  + str(guards) + ' guards are needed to respect the restriction conditions.')\n",
    "\n"
   ]
  }
 ],
 "metadata": {
  "kernelspec": {
   "display_name": "Python 3.9.12 ('base')",
   "language": "python",
   "name": "python3"
  },
  "language_info": {
   "codemirror_mode": {
    "name": "ipython",
    "version": 3
   },
   "file_extension": ".py",
   "mimetype": "text/x-python",
   "name": "python",
   "nbconvert_exporter": "python",
   "pygments_lexer": "ipython3",
   "version": "3.9.12"
  },
  "orig_nbformat": 4,
  "vscode": {
   "interpreter": {
    "hash": "55d137ae504eb3a2ce0b42b7ab009869de3eac806037a3ab4dc09c87d45e3a30"
   }
  }
 },
 "nbformat": 4,
 "nbformat_minor": 2
}
